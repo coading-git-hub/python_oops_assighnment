{
  "nbformat": 4,
  "nbformat_minor": 0,
  "metadata": {
    "colab": {
      "provenance": [],
      "authorship_tag": "ABX9TyNbfhU7JmAY9s3pbpeTmwsf",
      "include_colab_link": true
    },
    "kernelspec": {
      "name": "python3",
      "display_name": "Python 3"
    },
    "language_info": {
      "name": "python"
    }
  },
  "cells": [
    {
      "cell_type": "markdown",
      "metadata": {
        "id": "view-in-github",
        "colab_type": "text"
      },
      "source": [
        "<a href=\"https://colab.research.google.com/github/coading-git-hub/python_oops_assighnment/blob/master/assighnment6(oops).ipynb\" target=\"_parent\"><img src=\"https://colab.research.google.com/assets/colab-badge.svg\" alt=\"Open In Colab\"/></a>"
      ]
    },
    {
      "cell_type": "markdown",
      "source": [
        "1. Using self\n",
        "Assignment:\n",
        "Create a class Student with attributes name and marks. Use the self keyword to initialize these values via a constructor. Add a method display() that prints student details."
      ],
      "metadata": {
        "id": "QA7-zuYtRvPd"
      }
    },
    {
      "cell_type": "code",
      "source": [
        "class student:\n",
        "    def __init__(self,name,marks):\n",
        "        self.name=name\n",
        "        self.marks=marks\n",
        "    def display(self):\n",
        "      print(f'Student Name : {self.name}')\n",
        "      print(f'Student Marks : {self.marks}')\n",
        "\n",
        "student1 = student(\"kiran\",89)\n",
        "student1.display()\n"
      ],
      "metadata": {
        "id": "5lnXsh3iRxer",
        "colab": {
          "base_uri": "https://localhost:8080/"
        },
        "outputId": "de7a8b9d-4f76-412b-cb1d-5eb8c0db1d87"
      },
      "execution_count": null,
      "outputs": [
        {
          "output_type": "stream",
          "name": "stdout",
          "text": [
            "Student Name : kiran\n",
            "Student Marks : 89\n"
          ]
        }
      ]
    },
    {
      "cell_type": "markdown",
      "source": [
        "2: Using cls\n",
        "Assignment:\n",
        "Create a class Counter that keeps track of how many objects have been created. Use a class variable and a class method with cls to manage and display the count."
      ],
      "metadata": {
        "id": "6_TR165eUT5k"
      }
    },
    {
      "cell_type": "code",
      "source": [
        "class counter:\n",
        "   count = 0\n",
        "   def __init__ (self):\n",
        "    counter.count += 1\n",
        "\n",
        "   @classmethod\n",
        "   def desplay_count(cls):\n",
        "\n",
        "      print(f'Total object created' ,{cls.count})\n",
        "counter.desplay_count()"
      ],
      "metadata": {
        "id": "ACuqpfRPVqTs",
        "colab": {
          "base_uri": "https://localhost:8080/"
        },
        "outputId": "89aae015-22fb-40f7-e554-9ee50e078b75"
      },
      "execution_count": null,
      "outputs": [
        {
          "output_type": "stream",
          "name": "stdout",
          "text": [
            "Total object created {0}\n"
          ]
        }
      ]
    },
    {
      "cell_type": "code",
      "source": [],
      "metadata": {
        "id": "CClYafA0UZru"
      },
      "execution_count": null,
      "outputs": []
    },
    {
      "cell_type": "markdown",
      "source": [
        "3: Public Variables and Methods\n",
        "Assignment:\n",
        "Create a class Car with a public variable brand and a public method start(). Instantiate the class and access both from outside the class.\n",
        "\n"
      ],
      "metadata": {
        "id": "IEHZmsWbXAXL"
      }
    },
    {
      "cell_type": "code",
      "source": [
        "class car:\n",
        "\n",
        "  def __init__(self,brand):\n",
        "    self.brand=brand\n",
        "\n",
        "  def start(self):\n",
        "      print(f'The {self.brand} car has started')\n",
        "\n",
        "my_car = car (\"honda\")\n",
        "print(my_car.brand)\n",
        "my_car.start()"
      ],
      "metadata": {
        "id": "tQHF3TJgXEib",
        "colab": {
          "base_uri": "https://localhost:8080/"
        },
        "outputId": "c2050138-89dd-47fd-c965-32bdb4825df2"
      },
      "execution_count": null,
      "outputs": [
        {
          "output_type": "stream",
          "name": "stdout",
          "text": [
            "honda\n",
            "The honda car has started\n"
          ]
        }
      ]
    },
    {
      "cell_type": "markdown",
      "source": [
        "4. Class Variables and Class Methods\n",
        "Assignment:\n",
        "Create a class Bank with a class variable bank_name. Add a class method change_bank_name(cls, name) that allows changing the bank name. Show that it affects all instances."
      ],
      "metadata": {
        "id": "c86ZC5lBY9v8"
      }
    },
    {
      "cell_type": "code",
      "source": [
        "class bank:\n",
        "   bank_name = \"State_Bank\"\n",
        "   def __init__(self,account_number):\n",
        "        self.account_number = account_number\n",
        "\n",
        "   @classmethod\n",
        "   def change_bank_name(cls,name):\n",
        "       cls.bank_name = name\n",
        "\n",
        "account1 = bank(\"123456\")\n",
        "account2 = bank(\"789133\")\n",
        "\n",
        "print(f'Initial bank name for account1 : {account1.bank_name}')\n",
        "print(f'Initial bank name for account2 : {account2.bank_name}')\n",
        "\n",
        "bank.change_bank_name(\"National_Bank\")\n",
        "\n",
        "print(f'Updated bank name for account1 : {account1.bank_name}')\n",
        "print(f'Updated bank name for account2 : {account2.bank_name}')\n",
        "\n"
      ],
      "metadata": {
        "id": "7dUDi-u1Z8TX",
        "colab": {
          "base_uri": "https://localhost:8080/"
        },
        "outputId": "84824c24-5123-4e0f-cf74-dde28de7a4b9"
      },
      "execution_count": null,
      "outputs": [
        {
          "output_type": "stream",
          "name": "stdout",
          "text": [
            "Initial bank name for account1 : State_Bank\n",
            "Initial bank name for account2 : State_Bank\n",
            "Updated bank name for account1 : National_Bank\n",
            "Updated bank name for account2 : National_Bank\n"
          ]
        }
      ]
    },
    {
      "cell_type": "markdown",
      "source": [
        "5. Static Variables and Static Methods\n",
        "Assignment:\n",
        "Create a class MathUtils with a static method add(a, b) that returns the sum. No class or instance variables should be used."
      ],
      "metadata": {
        "id": "nc2DO-zxdHkY"
      }
    },
    {
      "cell_type": "code",
      "source": [
        "class MathUtils:\n",
        "    @staticmethod\n",
        "    def add(a,b):\n",
        "      return a+b\n",
        "\n",
        "print(MathUtils.add(6, 9))"
      ],
      "metadata": {
        "id": "qQVBVcJZdk95",
        "colab": {
          "base_uri": "https://localhost:8080/"
        },
        "outputId": "702a56d2-867d-4419-feee-016173ae871a"
      },
      "execution_count": null,
      "outputs": [
        {
          "output_type": "stream",
          "name": "stdout",
          "text": [
            "15\n"
          ]
        }
      ]
    },
    {
      "cell_type": "markdown",
      "source": [
        "6. Constructors and Destructors\n",
        "Assignment:\n",
        "Create a class Logger that prints a message when an object is created (constructor) and another message when it is destroyed (destructor).\n"
      ],
      "metadata": {
        "id": "4IEhlL4aewwW"
      }
    },
    {
      "cell_type": "code",
      "source": [
        "class Logger:\n",
        "    def __init__(self):\n",
        "        print(\"Logger object created\")\n",
        "\n",
        "    def __del__(self):\n",
        "        print(\"Logger object destroyed\")\n",
        "\n",
        "logger = Logger()"
      ],
      "metadata": {
        "id": "yz5ylSEjfYG1",
        "colab": {
          "base_uri": "https://localhost:8080/"
        },
        "outputId": "90671387-90c4-4f40-de6a-4bcdece104c6"
      },
      "execution_count": null,
      "outputs": [
        {
          "output_type": "stream",
          "name": "stdout",
          "text": [
            "Logger object created\n"
          ]
        }
      ]
    },
    {
      "cell_type": "markdown",
      "source": [
        "7. Access Modifiers: Public, Private, and Protected\n",
        "Assignment:\n",
        "Create a class Employee with:\n",
        "\n",
        "a public variable name,\n",
        "\n",
        "a protected variable _salary, and\n",
        "\n",
        "a private variable __ssn.\n",
        "\n",
        "Try accessing all three variables from an object of the class and document what happens.\n",
        "\n"
      ],
      "metadata": {
        "id": "kmolHz1qhHNZ"
      }
    },
    {
      "cell_type": "code",
      "source": [
        "class Employee:\n",
        "    def __init__(self, name, salary, ssn):\n",
        "        self.name = name\n",
        "        self._salary = salary\n",
        "        self.__ssn = ssn\n",
        "\n",
        "emp = Employee(\"Alice\", 60000, \"123-45-6789\")\n",
        "\n",
        "\n",
        "print(emp.name)\n",
        "print(emp._salary)\n",
        "# print(emp.__ssn)#generate error becouse its a private\n",
        "print(emp._Employee__ssn)   #private attribute excess\n"
      ],
      "metadata": {
        "id": "Y6GOUI4FhLVY",
        "colab": {
          "base_uri": "https://localhost:8080/"
        },
        "outputId": "6efed81f-3b6d-4c17-cb3a-76a5dcb5767c"
      },
      "execution_count": null,
      "outputs": [
        {
          "output_type": "stream",
          "name": "stdout",
          "text": [
            "Alice\n",
            "60000\n",
            "123-45-6789\n"
          ]
        }
      ]
    },
    {
      "cell_type": "markdown",
      "source": [
        "8. The super() Function\n",
        "Assignment:\n",
        "Create a class Person with a constructor that sets the name. Inherit a class Teacher from it, add a subject field, and use super() to call the base class constructor.\n",
        "\n"
      ],
      "metadata": {
        "id": "tp5fZvytkUyL"
      }
    },
    {
      "cell_type": "code",
      "source": [
        "# prompt: 8. The super() Function\n",
        "# Assignment:\n",
        "# Create a class Person with a constructor that sets the name. Inherit a class Teacher from it, add a subject field, and use super() to call the base class constructor.\n",
        "\n",
        "class Person:\n",
        "    def __init__(self, name):\n",
        "        self.name = name\n",
        "\n",
        "class Teacher(Person):\n",
        "    def __init__(self, name, subject):\n",
        "        super().__init__(name)\n",
        "        self.subject = subject\n",
        "\n",
        "teacher = Teacher(\"Alice\", \"Physics\")\n",
        "print(teacher.name)  # Output: Alice\n",
        "print(teacher.subject) # Output: Physics\n"
      ],
      "metadata": {
        "id": "060MoDqIkWYa"
      },
      "execution_count": null,
      "outputs": []
    },
    {
      "cell_type": "code",
      "source": [
        "class Person:\n",
        "    def __init__(self,name):\n",
        "        self.name = name\n",
        "\n",
        "class Teacher(Person):\n",
        "      def __init__(self, name, subject):\n",
        "          super().__init__(name)\n",
        "          self.subject = subject\n",
        "\n",
        "teacher = Teacher(\"Aarif\", \"Python\")\n",
        "print(f'My techer is Sir {teacher.name}')\n",
        "print(f'He teaches us {teacher.subject}')\n"
      ],
      "metadata": {
        "colab": {
          "base_uri": "https://localhost:8080/"
        },
        "id": "JsDc0eTUkyg_",
        "outputId": "2b745357-7ab5-4495-e02b-cc2a753f3309"
      },
      "execution_count": null,
      "outputs": [
        {
          "output_type": "stream",
          "name": "stdout",
          "text": [
            "My techer is Sir Aarif\n",
            "He teaches us Python\n"
          ]
        }
      ]
    },
    {
      "cell_type": "markdown",
      "source": [
        "9. Abstract Classes and Methods\n",
        "Assignment:\n",
        "Use the abc module to create an abstract class Shape with an abstract method area(). Inherit a class Rectangle that implements area()."
      ],
      "metadata": {
        "id": "mtWArtswm8hP"
      }
    },
    {
      "cell_type": "code",
      "source": [
        "from abc import ABC, abstractmethod\n",
        "\n",
        "class shape:\n",
        "  @abstractmethod\n",
        "  def area(self):\n",
        "    pass\n",
        "\n",
        "class Rectangle(shape):\n",
        "  def __init__(self, width, height):\n",
        "      self.width = width\n",
        "      self.height = height\n",
        "\n",
        "  def area(self):\n",
        "    return self.width * self.height\n",
        "\n",
        "rectangle = Rectangle(6 , 12)\n",
        "print(rectangle.area())\n",
        "\n"
      ],
      "metadata": {
        "colab": {
          "base_uri": "https://localhost:8080/"
        },
        "id": "5fh6KP2HnxgF",
        "outputId": "90227c14-c9d6-4abc-d6b2-274058d368a0"
      },
      "execution_count": null,
      "outputs": [
        {
          "output_type": "stream",
          "name": "stdout",
          "text": [
            "72\n"
          ]
        }
      ]
    },
    {
      "cell_type": "markdown",
      "source": [
        "10. Instance Methods\n",
        "Assignment:\n",
        "Create a class Dog with instance variables name and breed. Add an instance method bark() that prints a message including the dog's name."
      ],
      "metadata": {
        "id": "b1K4g4QNsSi_"
      }
    },
    {
      "cell_type": "code",
      "source": [
        "class Dog:\n",
        "    def __init__(self, name, breed):\n",
        "        self.name = name\n",
        "        self.breed = breed\n",
        "\n",
        "    def bark(self):\n",
        "        print(f\"{self.name} the {self.breed} says Woof!\")\n",
        "\n",
        "my_dog = Dog(\"Buddy\", \"Golden Retriever\")\n",
        "my_dog.bark()\n"
      ],
      "metadata": {
        "colab": {
          "base_uri": "https://localhost:8080/"
        },
        "id": "e_elRwgqsoli",
        "outputId": "acf184dd-19dd-482f-e854-6a58568d48e7"
      },
      "execution_count": null,
      "outputs": [
        {
          "output_type": "stream",
          "name": "stdout",
          "text": [
            "Buddy the Golden Retriever says Woof!\n"
          ]
        }
      ]
    },
    {
      "cell_type": "markdown",
      "source": [
        "11. Class Methods\n",
        "Assignment:\n",
        "Create a class Book with a class variable total_books. Add a class method increment_book_count() to increase the count when a new book is added."
      ],
      "metadata": {
        "id": "LM7AGgSFupI_"
      }
    },
    {
      "cell_type": "markdown",
      "source": [
        "# New Section"
      ],
      "metadata": {
        "id": "gpz8St4Mid8i"
      }
    },
    {
      "cell_type": "markdown",
      "source": [],
      "metadata": {
        "id": "HmLsXrP7wlXK"
      }
    },
    {
      "cell_type": "code",
      "source": [
        "class Book:\n",
        "   total_books = 0\n",
        "\n",
        "   def __init__(self, title):\n",
        "        self.title = title\n",
        "        Book.increament_book_count()\n",
        "\n",
        "   @classmethod\n",
        "   def increament_book_count(cls):\n",
        "       cls.total_books += 1\n",
        "\n",
        "book1 =Book(\"The Loard Of The Rings\")\n",
        "book2 = Book(\"Pride and Prejudice\")\n",
        "\n",
        "print(f'Total books : {Book.total_books}')\n"
      ],
      "metadata": {
        "colab": {
          "base_uri": "https://localhost:8080/"
        },
        "id": "w0PD8R9xvKWK",
        "outputId": "1b8bf24a-710b-4f44-dc44-53b2c22a7044"
      },
      "execution_count": null,
      "outputs": [
        {
          "output_type": "stream",
          "name": "stdout",
          "text": [
            "Total books : 2\n"
          ]
        }
      ]
    },
    {
      "cell_type": "markdown",
      "source": [
        "12. Static Methods\n",
        "Assignment:\n",
        "Create a class TemperatureConverter with a static method celsius_to_fahrenheit(c) that returns the Fahrenheit value."
      ],
      "metadata": {
        "id": "aRpXSVN9wnrG"
      }
    },
    {
      "cell_type": "code",
      "source": [
        "class TemperatureConverter:\n",
        "    @staticmethod\n",
        "    def celsius_to_fahrenheit(c):\n",
        "        return (c * 9/5) + 32\n",
        "\n",
        "print(TemperatureConverter.celsius_to_fahrenheit(36))"
      ],
      "metadata": {
        "colab": {
          "base_uri": "https://localhost:8080/"
        },
        "id": "JsUN8vIOw6BI",
        "outputId": "959771b7-cacc-41b3-a15f-9d441cacba3e"
      },
      "execution_count": null,
      "outputs": [
        {
          "output_type": "stream",
          "name": "stdout",
          "text": [
            "96.8\n"
          ]
        }
      ]
    },
    {
      "cell_type": "markdown",
      "source": [
        "13. Composition\n",
        "Assignment:\n",
        "Create a class Engine and a class Car. Use composition by passing an Engine object to the Car class during initialization. Access a method of the Engine class via the Car class."
      ],
      "metadata": {
        "id": "WY7pgaVRyHOM"
      }
    },
    {
      "cell_type": "code",
      "source": [
        "\n",
        "class Engine:\n",
        "    def start(self):\n",
        "        return \"Engine started\"\n",
        "\n",
        "class Car:\n",
        "    def __init__(self, engine):\n",
        "        self.engine = engine\n",
        "\n",
        "    def run_engine(self):\n",
        "        return self.engine.start()\n",
        "\n",
        "\n",
        "my_engine = Engine()\n",
        "my_car = Car(my_engine)\n",
        "\n",
        "print(my_car.run_engine())\n"
      ],
      "metadata": {
        "colab": {
          "base_uri": "https://localhost:8080/"
        },
        "id": "11CJyOWSyIuP",
        "outputId": "f8980cc3-1b00-4869-fa1a-f4376c218ca1"
      },
      "execution_count": null,
      "outputs": [
        {
          "output_type": "stream",
          "name": "stdout",
          "text": [
            "Engine started\n"
          ]
        }
      ]
    },
    {
      "cell_type": "markdown",
      "source": [
        "14. Aggregation\n",
        "Assignment:\n",
        "Create a class Department and a class Employee. Use aggregation by having a Department object store a reference to an Employee object that exists independently of it."
      ],
      "metadata": {
        "id": "-AGeC-OzzU_F"
      }
    },
    {
      "cell_type": "code",
      "source": [
        "\n",
        "class Department:\n",
        "    def __init__(self, name, employee):\n",
        "        self.name = name\n",
        "        self.employee = employee\n",
        "\n",
        "    def display_info(self):\n",
        "        print(f\"Department: {self.name}\")\n",
        "        print(f\"Employee: {self.employee.name}\")\n",
        "\n",
        "\n",
        "class Employee:\n",
        "    def __init__(self, name):\n",
        "        self.name = name\n",
        "\n",
        "\n",
        "emp = Employee(\"Alice\")\n",
        "dept = Department(\"Sales\", emp)\n",
        "\n",
        "# Display department and employee information\n",
        "dept.display_info()\n",
        "emp.name # Employee  that exists independently of it.\n"
      ],
      "metadata": {
        "id": "Y9JpJTPzzWvi",
        "colab": {
          "base_uri": "https://localhost:8080/",
          "height": 70
        },
        "outputId": "707bbd2f-bcf9-4958-abed-77b948d025f9"
      },
      "execution_count": null,
      "outputs": [
        {
          "output_type": "stream",
          "name": "stdout",
          "text": [
            "Department: Sales\n",
            "Employee: Alice\n"
          ]
        },
        {
          "output_type": "execute_result",
          "data": {
            "text/plain": [
              "'Alice'"
            ],
            "application/vnd.google.colaboratory.intrinsic+json": {
              "type": "string"
            }
          },
          "metadata": {},
          "execution_count": 43
        }
      ]
    },
    {
      "cell_type": "markdown",
      "source": [
        "15. Method Resolution Order (MRO) and Diamond Inheritance\n",
        "Assignment:\n",
        "Create four classes:\n",
        "\n",
        "A with a method show(),\n",
        "\n",
        "B and C that inherit from A and override show(),\n",
        "\n",
        "D that inherits from both B and C.\n",
        "\n",
        "Create an object of D and call show() to observe MRO."
      ],
      "metadata": {
        "id": "bLKVWP1t9HrZ"
      }
    },
    {
      "cell_type": "code",
      "source": [
        "class A:\n",
        "    def show(self):\n",
        "        print(\"A's show method\")\n",
        "\n",
        "class B(A):\n",
        "    def show(self):\n",
        "        print(\"B's show method\")\n",
        "\n",
        "class C(A):\n",
        "    def show(self):\n",
        "        print(\"C's show method\")\n",
        "\n",
        "class D(B, C):\n",
        "    pass\n",
        "\n",
        "d = D()\n",
        "d.show()\n"
      ],
      "metadata": {
        "colab": {
          "base_uri": "https://localhost:8080/"
        },
        "id": "MvmnBzP09KZT",
        "outputId": "3cd19dbd-a970-4cb6-b45e-d24c80581fcc"
      },
      "execution_count": null,
      "outputs": [
        {
          "output_type": "stream",
          "name": "stdout",
          "text": [
            "B's show method\n"
          ]
        }
      ]
    },
    {
      "cell_type": "markdown",
      "source": [
        "16. Function Decorators\n",
        "Assignment:\n",
        "Write a decorator function log_function_call that prints \"Function is being called\" before a function executes. Apply it to a function say_hello()."
      ],
      "metadata": {
        "id": "l67rv8zC-EsM"
      }
    },
    {
      "cell_type": "code",
      "source": [
        "\n",
        "def log_function_call(func):\n",
        "    def wrapper():\n",
        "        print(\"Function is being called\")\n",
        "        func()\n",
        "    return wrapper\n",
        "\n",
        "@log_function_call\n",
        "def say_hello():\n",
        "    print(\"Hello!\")\n",
        "\n",
        "say_hello()\n"
      ],
      "metadata": {
        "colab": {
          "base_uri": "https://localhost:8080/"
        },
        "id": "BtSBUv83-GNx",
        "outputId": "fa2515d7-0530-42c5-879c-c491d94c0236"
      },
      "execution_count": null,
      "outputs": [
        {
          "output_type": "stream",
          "name": "stdout",
          "text": [
            "Function is being called\n",
            "Hello!\n"
          ]
        }
      ]
    },
    {
      "cell_type": "markdown",
      "source": [
        "17. Class Decorators\n",
        "Assignment:\n",
        "Create a class decorator add_greeting that modifies a class to add a greet() method returning \"Hello from Decorator!\". Apply it to a class Person."
      ],
      "metadata": {
        "id": "wp-Cnaz1BXnb"
      }
    },
    {
      "cell_type": "code",
      "source": [
        "def add_greeting(cls):\n",
        "    class WrapperClass(cls):\n",
        "        def greet(self):\n",
        "            return \"Hello from Decorator!\"\n",
        "    return WrapperClass\n",
        "\n",
        "@add_greeting\n",
        "class Person:\n",
        "    def __init__(self, name):\n",
        "        self.name = name\n",
        "\n",
        "person = Person(\"Alice\")\n",
        "print(person.greet())\n"
      ],
      "metadata": {
        "colab": {
          "base_uri": "https://localhost:8080/"
        },
        "id": "dD8VmgbSCk4O",
        "outputId": "8c4e8a14-7674-4958-9306-0322d5c89d48"
      },
      "execution_count": null,
      "outputs": [
        {
          "output_type": "stream",
          "name": "stdout",
          "text": [
            "Hello from Decorator!\n"
          ]
        }
      ]
    },
    {
      "cell_type": "markdown",
      "source": [
        "18. Property Decorators: @property, @setter, and @deleter\n",
        "Assignment:\n",
        "Create a class Product with a private attribute _price. Use @property to get the price, @price.setter to update it, and @price.deleter to delete it.\n",
        "\n"
      ],
      "metadata": {
        "id": "jp6jqUa7Edbk"
      }
    },
    {
      "cell_type": "code",
      "source": [
        "class Product:\n",
        "    def __init__(self, price):\n",
        "        self._price = price\n",
        "\n",
        "    @property\n",
        "    def price(self):\n",
        "        return self._price\n",
        "\n",
        "    @price.setter\n",
        "    def price(self, new_price):\n",
        "        if new_price > 0:\n",
        "            self._price = new_price\n",
        "        else:\n",
        "            print(\"Price must be greater than 0.\")\n",
        "\n",
        "    @price.deleter\n",
        "    def price(self):\n",
        "        del self._price\n",
        "\n",
        "\n",
        "product = Product(100)\n",
        "print(product.price)\n",
        "\n",
        "product.price = 200\n",
        "print(product.price)\n",
        "\n",
        "product.price = -50\n",
        "print(product.price)\n",
        "\n",
        "del product.price\n",
        "\n"
      ],
      "metadata": {
        "colab": {
          "base_uri": "https://localhost:8080/"
        },
        "id": "2Lm3XcYGFjAn",
        "outputId": "0cb10a05-8531-4cc8-eab3-9c1d83b4a481"
      },
      "execution_count": null,
      "outputs": [
        {
          "output_type": "stream",
          "name": "stdout",
          "text": [
            "100\n",
            "200\n",
            "Price must be greater than 0.\n",
            "200\n"
          ]
        }
      ]
    },
    {
      "cell_type": "markdown",
      "source": [
        "19. callable() and __call__()\n",
        "Assignment:\n",
        "Create a class Multiplier with an __init__() to set a factor. Define a __call__() method that multiplies an input by the factor. Test it with callable() and by calling the object like a function."
      ],
      "metadata": {
        "id": "Pnubvh5lFrK9"
      }
    },
    {
      "cell_type": "code",
      "source": [
        "class Multiplier:\n",
        "    def __init__(self, factor):\n",
        "        self.factor = factor\n",
        "\n",
        "    def __call__(self, number):\n",
        "        return number * self.factor\n",
        "\n",
        "multiplier = Multiplier(5)\n",
        "\n",
        "print(callable(multiplier))\n",
        "\n",
        "print(multiplier(10))\n"
      ],
      "metadata": {
        "colab": {
          "base_uri": "https://localhost:8080/"
        },
        "id": "qXzSxNpnFw6H",
        "outputId": "90f609e6-902f-4bcd-f174-f0e85c7362a1"
      },
      "execution_count": null,
      "outputs": [
        {
          "output_type": "stream",
          "name": "stdout",
          "text": [
            "True\n",
            "50\n"
          ]
        }
      ]
    },
    {
      "cell_type": "markdown",
      "source": [
        "20. Creating a Custom Exception\n",
        "Assignment:\n",
        "Create a custom exception InvalidAgeError. Write a function check_age(age) that raises this exception if age < 18. Handle it with try...except."
      ],
      "metadata": {
        "id": "WDRuyRzjGbcm"
      }
    },
    {
      "cell_type": "code",
      "source": [
        "\n",
        "class InvalidAgeError(Exception):\n",
        "    pass\n",
        "\n",
        "def check_age(age):\n",
        "    if age < 18:\n",
        "        raise InvalidAgeError(\"Age must be 18 or older.\")\n",
        "    else:\n",
        "        print(\"Access granted!\")\n",
        "\n",
        "\n",
        "try:\n",
        "    user_age = int(input(\"Enter your age: \"))\n",
        "    check_age(user_age)\n",
        "except InvalidAgeError as e:\n",
        "    print(\"Custom Exception Caught:\", e)\n",
        "except ValueError:\n",
        "    print(\"Please enter a valid number.\")\n"
      ],
      "metadata": {
        "colab": {
          "base_uri": "https://localhost:8080/"
        },
        "id": "-fK1P66zGck2",
        "outputId": "52fd5446-7b51-4def-95f6-26d1862dbfc0"
      },
      "execution_count": null,
      "outputs": [
        {
          "output_type": "stream",
          "name": "stdout",
          "text": [
            "Enter your age: 12\n",
            "Custom Exception Caught: Age must be 18 or older.\n"
          ]
        }
      ]
    },
    {
      "cell_type": "markdown",
      "source": [
        "21. Make a Custom Class Iterable\n",
        "Assignment:\n",
        "Create a class Countdown that takes a start number. Implement __iter__() and __next__() to make the object iterable in a for-loop, counting down to 0."
      ],
      "metadata": {
        "id": "5AiZ2gGFH42Z"
      }
    },
    {
      "cell_type": "code",
      "source": [
        "class Countdown:\n",
        "    def __init__(self, start):\n",
        "        self.start = start\n",
        "\n",
        "    def __iter__(self):\n",
        "        self.current = self.start\n",
        "        return self\n",
        "\n",
        "    def __next__(self):\n",
        "        if self.current < 0:\n",
        "            raise StopIteration\n",
        "        else:\n",
        "            num = self.current\n",
        "            self.current -= 1\n",
        "            return num\n",
        "\n",
        "\n",
        "for number in Countdown(5):\n",
        "    print(number)\n"
      ],
      "metadata": {
        "colab": {
          "base_uri": "https://localhost:8080/"
        },
        "id": "v-vx9CXwITnl",
        "outputId": "28e70b97-8ddf-4f73-e051-a7a73d5ea88d"
      },
      "execution_count": null,
      "outputs": [
        {
          "output_type": "stream",
          "name": "stdout",
          "text": [
            "5\n",
            "4\n",
            "3\n",
            "2\n",
            "1\n",
            "0\n"
          ]
        }
      ]
    }
  ]
}